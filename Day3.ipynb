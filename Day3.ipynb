{
 "cells": [
  {
   "cell_type": "markdown",
   "id": "ef0e9d6f",
   "metadata": {},
   "source": [
    "***DAY-3*** ***CONTROL FLOW***"
   ]
  },
  {
   "cell_type": "code",
   "execution_count": 42,
   "id": "0bc3a09b",
   "metadata": {},
   "outputs": [
    {
     "name": "stdout",
     "output_type": "stream",
     "text": [
      "Welcome to the rollercoaster!\n",
      "What is your height in cm?\n",
      "175\n",
      "What is you age?\n",
      "46\n",
      "Do you want to take photos?\n",
      " Y or N: N\n",
      "You can ride the rollercoaster!\n",
      "Your ride is free!\n",
      "The total bill is $ 0\n"
     ]
    }
   ],
   "source": [
    "print(\"Welcome to the rollercoaster!\")\n",
    "height = int(input(\"What is your height in cm?\\n\"))\n",
    "age = int(input(\"What is you age?\\n\"))\n",
    "photos = input(\"Do you want to take photos?\\n Y or N: \")\n",
    "\n",
    "if height >= 120:\n",
    "    print(\"You can ride the rollercoaster!\")\n",
    "    if age < 12:\n",
    "        price = 5\n",
    "    elif 12 <= age <= 18:\n",
    "        price = 7\n",
    "    elif age >= 45 and age <= 50:\n",
    "        price = 0\n",
    "        print(\"Your ride is free!\")\n",
    "    else: \n",
    "        price = 12\n",
    "else:\n",
    "    print(\"Sorry, you have to grow taller before you can ride.\")\n",
    "    \n",
    "if photos == \"Y\":\n",
    "    price += 3\n",
    "\n",
    "print(\"The total bill is $\", price)"
   ]
  },
  {
   "cell_type": "code",
   "execution_count": 3,
   "id": "0d483255",
   "metadata": {},
   "outputs": [
    {
     "name": "stdout",
     "output_type": "stream",
     "text": [
      "Which number do you want to choose?\n",
      "23\n",
      "This is an odd number.\n"
     ]
    }
   ],
   "source": [
    "number = int(input(\"Which number do you want to choose?\\n\"))\n",
    "\n",
    "if number % 2 == 0:\n",
    "    print(\"This is an even number.\")\n",
    "else:\n",
    "    print(\"This is an odd number.\")"
   ]
  },
  {
   "cell_type": "code",
   "execution_count": 5,
   "id": "7a06b7e6",
   "metadata": {},
   "outputs": [
    {
     "name": "stdout",
     "output_type": "stream",
     "text": [
      "Enter Your Height in m: 1.75\n",
      "Enter your Weight in kgs: 60\n",
      "Your BMI(Body Mass Index) is :  19\n",
      "You have a normal weight.\n"
     ]
    }
   ],
   "source": [
    "# BMI Calculator\n",
    "height = input(\"Enter Your Height in m: \")\n",
    "weight = input(\"Enter your Weight in kgs: \")\n",
    "bmi = int(float(weight)/(float(height) ** 2))\n",
    "print(\"Your BMI(Body Mass Index) is : \" , bmi)\n",
    "if bmi < 18.5:\n",
    "    print(\"You're Underweight.\")\n",
    "elif 18.5 < bmi < 25:\n",
    "    print(\"You have a normal weight.\")\n",
    "elif 25 < bmi < 30:\n",
    "    print(\"You are overweight.\")\n",
    "elif 30 < bmi < 35:\n",
    "    print(\"You are obese.\")\n",
    "else:\n",
    "    print(\"You are clinically obese.\")"
   ]
  },
  {
   "cell_type": "code",
   "execution_count": 25,
   "id": "babc216d",
   "metadata": {},
   "outputs": [
    {
     "name": "stdout",
     "output_type": "stream",
     "text": [
      "Which year do you want to check?\n",
      "2000\n",
      "This is a leap year.\n"
     ]
    }
   ],
   "source": [
    "#Leap year checker\n",
    "year = int(input(\"Which year do you want to check?\\n\"))\n",
    "if year % 4 == 0:\n",
    "    if year % 100 == 0:\n",
    "        if year % 400 == 0:\n",
    "            print(\"This is a leap year.\")\n",
    "        else:\n",
    "            print(\"This is not a leap year.\")\n",
    "    else:\n",
    "        print(\"This is a leap year.\")\n",
    "else:\n",
    "    print(\"This is not a leap year.\")"
   ]
  },
  {
   "cell_type": "code",
   "execution_count": 36,
   "id": "38bd5d71",
   "metadata": {},
   "outputs": [
    {
     "name": "stdout",
     "output_type": "stream",
     "text": [
      "Welcome to the Python Pizza Deliveries\n",
      "What size pizza do you want? S, M, or L\n",
      "L\n",
      "Do you want pepperoni? Y or N\n",
      "Y\n",
      "Do you want extra cheese? Y or N\n",
      "N\n",
      "Your final bill is: $ 28\n"
     ]
    }
   ],
   "source": [
    "#Pizza Order\n",
    "print(\"Welcome to the Python Pizza Deliveries\")\n",
    "size = input(\"What size pizza do you want? S, M, or L\\n\")\n",
    "add_pepperoni = input(\"Do you want pepperoni? Y or N\\n\")\n",
    "extra_cheese = input(\"Do you want extra cheese? Y or N\\n\")\n",
    "\n",
    "if size == \"S\":\n",
    "    price = 15\n",
    "    if add_pepperoni == \"Y\":\n",
    "        price += 2\n",
    "        if extra_cheese == \"Y\":\n",
    "            price += 1\n",
    "elif size == \"M\":\n",
    "    price = 20\n",
    "    if add_pepperoni == \"Y\":\n",
    "        price += 3\n",
    "        if extra_cheese == \"Y\":\n",
    "            price += 1 \n",
    "elif size == \"L\":\n",
    "    price = 25\n",
    "    if add_pepperoni == \"Y\":\n",
    "        price += 3\n",
    "        if extra_cheese == \"Y\":\n",
    "            price += 1\n",
    "else: \n",
    "    print(\"Sorry! This size is invalid.\")\n",
    "print(\"Your final bill is: $\", price)"
   ]
  },
  {
   "cell_type": "code",
   "execution_count": 8,
   "id": "b06d4671",
   "metadata": {},
   "outputs": [
    {
     "name": "stdout",
     "output_type": "stream",
     "text": [
      "Welcome to the Love Calculator!\n",
      "What is your name? \n",
      "Aditya singh\n",
      "What is their name? \n",
      "Shomya Choudhary\n",
      "Your score is 32, you are alright together.\n"
     ]
    }
   ],
   "source": [
    "#love Calculator\n",
    "print(\"Welcome to the Love Calculator!\")\n",
    "name1 = input(\"What is your name? \\n\")\n",
    "name2 = input(\"What is their name? \\n\")\n",
    "combined = name1 + name2\n",
    "\n",
    "lower = combined.lower()\n",
    "\n",
    "t = lower.count(\"t\")\n",
    "r = lower.count(\"r\")\n",
    "u = lower.count(\"u\")\n",
    "e = lower.count(\"e\")\n",
    "true = t + r + u + e\n",
    "\n",
    "l = lower.count(\"l\")\n",
    "o = lower.count(\"o\")\n",
    "v = lower.count(\"v\")\n",
    "e = lower.count(\"e\")\n",
    "love = l + o + v + e\n",
    "\n",
    "score = int(str(true) + str(love))\n",
    "\n",
    "if (score < 10) or (score > 90) :\n",
    "    print(f\"Your score is {score}, you go together like coke and mentos.\")\n",
    "elif (40 >= score) and (score <= 50) :\n",
    "    print(f\"Your score is {score}, you are alright together.\")\n",
    "else :\n",
    "    print(f\"Your score is {score}\")\n",
    "    "
   ]
  },
  {
   "cell_type": "code",
   "execution_count": 7,
   "id": "8dae8309",
   "metadata": {},
   "outputs": [
    {
     "name": "stdout",
     "output_type": "stream",
     "text": [
      "Welcome to the Treasure Island\n",
      "Your Mission is to find the treasure!\n",
      "You have two Bridges to choose from.\n",
      "What would you choose?\n",
      "Left or Right?\n",
      "Left\n",
      "Great! You chose the right path but...\n",
      "Now, You have two ways further either wait for a door to appear or can swim to the nearby island which is very close. What would you choose? Swim or Wait?\n",
      "Wait\n",
      "Amazing! But Don't get excited, You still have a last job to do. You have three doors to choose from: Blue, Yellow and Red. What would you choose?Yellow\n",
      "Congratulations! You have won the treasure.\n",
      "            *******************************************************************************\n",
      "          |                   |                  |                     |\n",
      " _________|________________.=\"\"_;=.______________|_____________________|_______\n",
      "|                   |  ,-\"_,=\"\"     `\"=.|                  |\n",
      "|___________________|__\"=._o`\"-._        `\"=.______________|___________________\n",
      "          |                `\"=._o`\"=._      _`\"=._                     |\n",
      " _________|_____________________:=._o \"=._.\"_.-=\"'\"=.__________________|_______\n",
      "|                   |    __.--\" , ; `\"=._o.\" ,-\"\"\"-._ \".   |\n",
      "|___________________|_._\"  ,. .` ` `` ,  `\"-._\"-._   \". '__|___________________\n",
      "          |           |o`\"=._` , \"` `; .\". ,  \"-._\"-._; ;              |\n",
      " _________|___________| ;`-.o`\"=._; .\" ` '`.\"\\` . \"-._ /_______________|_______\n",
      "|                   | |o;    `\"-.o`\"=._``  '` \" ,__.--o;   |\n",
      "|___________________|_| ;     (#) `-.o `\"=.`_.--\"_o.-; ;___|___________________\n",
      "____/______/______/___|o;._    \"      `\".o|o_.--\"    ;o;____/______/______/____\n",
      "/______/______/______/_\"=._o--._        ; | ;        ; ;/______/______/______/_\n",
      "____/______/______/______/__\"=._o--._   ;o|o;     _._;o;____/______/______/____\n",
      "/______/______/______/______/____\"=._o._; | ;_.--\"o.--\"_/______/______/______/_\n",
      "____/______/______/______/______/_____\"=.o|o_.--\"\"___/______/______/______/____\n",
      "/______/______/______/______/______/______/______/______/______/______/[TomekK]\n",
      "*******************************************************************************\n",
      "\n"
     ]
    }
   ],
   "source": [
    "#Treasure Island\n",
    "print('''Welcome to the Treasure Island\\nYour Mission is to find the treasure!''')\n",
    "print(\"You have two Bridges to choose from.\\nWhat would you choose?\")\n",
    "choice1 = input(\"Left or Right?\\n\")\n",
    "if choice1 == \"Left\":\n",
    "    choice2 = input(\"Great! You chose the right path but...\\nNow, You have two ways further either wait for a door to appear or can swim to the nearby island which is very close. What would you choose? Swim or Wait?\\n\")\n",
    "    if choice2 == \"Wait\":\n",
    "        choice3 = input(\"Amazing! But Don't get excited, You still have a last job to do. You have three doors to choose from: Blue, Yellow and Red. What would you choose?\")\n",
    "        if choice3 == \"Yellow\":\n",
    "            print('''Congratulations! You have won the treasure.\n",
    "            *******************************************************************************\n",
    "          |                   |                  |                     |\n",
    " _________|________________.=\"\"_;=.______________|_____________________|_______\n",
    "|                   |  ,-\"_,=\"\"     `\"=.|                  |\n",
    "|___________________|__\"=._o`\"-._        `\"=.______________|___________________\n",
    "          |                `\"=._o`\"=._      _`\"=._                     |\n",
    " _________|_____________________:=._o \"=._.\"_.-=\"'\"=.__________________|_______\n",
    "|                   |    __.--\" , ; `\"=._o.\" ,-\"\"\"-._ \".   |\n",
    "|___________________|_._\"  ,. .` ` `` ,  `\"-._\"-._   \". '__|___________________\n",
    "          |           |o`\"=._` , \"` `; .\". ,  \"-._\"-._; ;              |\n",
    " _________|___________| ;`-.o`\"=._; .\" ` '`.\"\\` . \"-._ /_______________|_______\n",
    "|                   | |o;    `\"-.o`\"=._``  '` \" ,__.--o;   |\n",
    "|___________________|_| ;     (#) `-.o `\"=.`_.--\"_o.-; ;___|___________________\n",
    "____/______/______/___|o;._    \"      `\".o|o_.--\"    ;o;____/______/______/____\n",
    "/______/______/______/_\"=._o--._        ; | ;        ; ;/______/______/______/_\n",
    "____/______/______/______/__\"=._o--._   ;o|o;     _._;o;____/______/______/____\n",
    "/______/______/______/______/____\"=._o._; | ;_.--\"o.--\"_/______/______/______/_\n",
    "____/______/______/______/______/_____\"=.o|o_.--\"\"___/______/______/______/____\n",
    "/______/______/______/______/______/______/______/______/______/______/[TomekK]\n",
    "*******************************************************************************\n",
    "''')\n",
    "        else :\n",
    "                print('''OOPS! Wrong Door. GAME OVER!\n",
    "                  (\n",
    "          ;\n",
    "         | |\n",
    "         | |\n",
    "        ,`-'.\n",
    "       ( O O )\n",
    "        ( ^ )\n",
    "         HHH  ''')\n",
    "    else:\n",
    "            print('''Sheesh! Wrong Choice, There's a shark in the water. GAME OVER!\n",
    "            \n",
    "                     ^`.                     o\n",
    "     ^_              \\  \\                  o  o\n",
    "     \\ \\             {   \\                 o\n",
    "     {  \\           /     `~~~--__\n",
    "     {   \\___----~~'              `~~-_     ______          _____\n",
    "      \\                         /// a  `~._(_||___)________/___\n",
    "      / /~~~~-, ,__.    ,      ///  __,,,,)      o  ______/    \\\n",
    "      \\/      \\/    `~~~;   ,---~~-_`~= \\ \\------o-'            \\\n",
    "                       /   /            / /\n",
    "                      '._.'           _/_/\n",
    "                                      ';|\\\n",
    "                                      ''')\n",
    "else:\n",
    "    print('''CRACK! Wrong choice. This was a broken bridge. GAME OVER!\n",
    "                                             +---+\n",
    "                                      |\\   \\\n",
    "  +-----------------------------+     | +---+\n",
    "   \\                      +-----------+ |   |\n",
    "    \\                      \\            |   |\n",
    "     \\                 |/   +-----------+   |\n",
    "      \\                (c_      |   \\ | |   |\n",
    "       \\                \\       |    \\| |   |\n",
    "        \\                       |     | |   |\n",
    "         \\                      |     + |   |\n",
    "          \\                     |      \\| DM|\n",
    "           \\--------------------+       +---+\n",
    "            \\                    \\        \\\n",
    "             \\                    \\        \\\n",
    "              +-----------------------------+\n",
    "              ''')"
   ]
  },
  {
   "cell_type": "code",
   "execution_count": null,
   "id": "b555de53",
   "metadata": {},
   "outputs": [],
   "source": []
  }
 ],
 "metadata": {
  "kernelspec": {
   "display_name": "Python 3 (ipykernel)",
   "language": "python",
   "name": "python3"
  },
  "language_info": {
   "codemirror_mode": {
    "name": "ipython",
    "version": 3
   },
   "file_extension": ".py",
   "mimetype": "text/x-python",
   "name": "python",
   "nbconvert_exporter": "python",
   "pygments_lexer": "ipython3",
   "version": "3.10.9"
  }
 },
 "nbformat": 4,
 "nbformat_minor": 5
}
