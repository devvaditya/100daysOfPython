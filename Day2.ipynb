{
 "cells": [
  {
   "cell_type": "markdown",
   "id": "4d2d0d93",
   "metadata": {},
   "source": [
    "***DAY-2***     ***DATATYPES AND MANIPULATING STRINGS***"
   ]
  },
  {
   "cell_type": "code",
   "execution_count": 1,
   "id": "9598dc1c",
   "metadata": {},
   "outputs": [
    {
     "name": "stdout",
     "output_type": "stream",
     "text": [
      "H\n"
     ]
    }
   ],
   "source": [
    "print(\"Hello\"[0])"
   ]
  },
  {
   "cell_type": "code",
   "execution_count": 2,
   "id": "14342798",
   "metadata": {},
   "outputs": [
    {
     "name": "stdout",
     "output_type": "stream",
     "text": [
      "579\n"
     ]
    }
   ],
   "source": [
    "print(123+456)"
   ]
  },
  {
   "cell_type": "code",
   "execution_count": 7,
   "id": "9f74a88a",
   "metadata": {},
   "outputs": [
    {
     "name": "stdout",
     "output_type": "stream",
     "text": [
      "What is your name? \n",
      "aditya\n",
      "Your name has 6 characters.\n"
     ]
    }
   ],
   "source": [
    "num_char = len(input(\"What is your name? \\n\"))\n",
    "print(\"Your name has \" + str(num_char) + \" characters.\")"
   ]
  },
  {
   "cell_type": "code",
   "execution_count": 19,
   "id": "12978712",
   "metadata": {},
   "outputs": [
    {
     "name": "stdout",
     "output_type": "stream",
     "text": [
      "Type a two digit number: 26\n",
      "8\n"
     ]
    }
   ],
   "source": [
    "number = input(\"Type a two digit number: \")\n",
    "print(int(number[0])+int(number[1]))"
   ]
  },
  {
   "cell_type": "code",
   "execution_count": 28,
   "id": "455bf8a2",
   "metadata": {},
   "outputs": [
    {
     "name": "stdout",
     "output_type": "stream",
     "text": [
      "Enter Your Height in m: 1.75\n",
      "Enter your Weight in kgs: 80\n",
      "Your BMI(Body Mass Index) is :  26\n"
     ]
    }
   ],
   "source": [
    "# BMI Calculator\n",
    "height = input(\"Enter Your Height in m: \")\n",
    "weight = input(\"Enter your Weight in kgs: \")\n",
    "print(\"Your BMI(Body Mass Index) is : \" , int(float(weight)/(float(height) ** 2)))"
   ]
  },
  {
   "cell_type": "code",
   "execution_count": 30,
   "id": "0f58f360",
   "metadata": {},
   "outputs": [
    {
     "name": "stdout",
     "output_type": "stream",
     "text": [
      "What is Current Age? \n",
      "20\n",
      "Assuming you would live till 90 years of age, You have 25550 days, 3640 weeks and 840 left.\n",
      "We never what would happen next so live your life to the fullest and make every moment count.\n"
     ]
    }
   ],
   "source": [
    "#Your Life In Weeks!\n",
    "age = int(input(\"What is Current Age? \\n\"))\n",
    "days = (90 - age) * 365\n",
    "weeks = (90 - age) * 52\n",
    "months = (90 - age) * 12\n",
    "print(f\"Assuming you would live till 90 years of age, You have {days} days, {weeks} weeks and {months} left.\\nWe never what would happen next so live your life to the fullest and make every moment count.\")"
   ]
  },
  {
   "cell_type": "code",
   "execution_count": 5,
   "id": "8c5cdf5e",
   "metadata": {},
   "outputs": [
    {
     "name": "stdout",
     "output_type": "stream",
     "text": [
      "Welcome to the Tip Calculator\n",
      "What was the total bill?\n",
      "$124.56\n",
      "What percentage of tip would you like to give?10, 12 or 15?\n",
      "12\n",
      "How amny people to slit the bill?\n",
      "7\n",
      "Each person should pay:\n",
      " $19.93 \n"
     ]
    }
   ],
   "source": [
    "#Tip Calculator\n",
    "print(\"Welcome to the Tip Calculator\")\n",
    "bill = float(input(\"What was the total bill?\\n$\"))\n",
    "bill_percent = int(input(\"What percentage of tip would you like to give?10, 12 or 15?\\n\"))\n",
    "people = int(input(\"How amny people to slit the bill?\\n\"))\n",
    "individual_bill = round((bill + bill * (bill_percent / 100)) / people , 2)\n",
    "print(f\"Each person should pay:\\n${individual_bill} \")"
   ]
  },
  {
   "cell_type": "code",
   "execution_count": null,
   "id": "7128e55e",
   "metadata": {},
   "outputs": [],
   "source": []
  }
 ],
 "metadata": {
  "kernelspec": {
   "display_name": "Python 3 (ipykernel)",
   "language": "python",
   "name": "python3"
  },
  "language_info": {
   "codemirror_mode": {
    "name": "ipython",
    "version": 3
   },
   "file_extension": ".py",
   "mimetype": "text/x-python",
   "name": "python",
   "nbconvert_exporter": "python",
   "pygments_lexer": "ipython3",
   "version": "3.10.9"
  }
 },
 "nbformat": 4,
 "nbformat_minor": 5
}
